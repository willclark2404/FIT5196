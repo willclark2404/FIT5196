{
 "cells": [
  {
   "cell_type": "markdown",
   "metadata": {},
   "source": [
    "# FIT5196 Assessment 2 Task2\n",
    "#### Student Name: William Clark\n",
    "#### Student ID: 31993303\n",
    "\n",
    "Date: 23/11/2020\n",
    "\n",
    "Version: 1.0\n",
    "\n",
    "Environment: Python 3 and Jupyter notebook\n",
    "\n",
    "Libraries used: please include the main libraries you used in your assignment here, e.g.,:\n",
    "* pandas \n",
    "* re \n",
    "* numpy\n",
    "* random\n",
    "\n",
    "\n",
    "<span style=\"color: red\"> Note that this is a sample notebook only. You will need to fill in the proper markdown and code blocks. You might also want to make necessary changes to the structure to meet your own needs. It is important to make sure the logic of how you finish the assessment is clearly shown in this notebook! </span>"
   ]
  },
  {
   "cell_type": "markdown",
   "metadata": {},
   "source": [
    "## Import libraries "
   ]
  },
  {
   "cell_type": "code",
   "execution_count": 1,
   "metadata": {},
   "outputs": [],
   "source": [
    "# Code to import libraries as you need in this assessment, e.g.,\n",
    "import pandas as pd\n",
    "import numpy as np\n",
    "import re\n",
    "import random"
   ]
  },
  {
   "cell_type": "markdown",
   "metadata": {},
   "source": [
    "## Task 2. Integration\n",
    "\n",
    "In this task, you are given a 2nd job advertisement dataset dataset2.csv. You will then integrate this dataset with the output from Task 1 (dataset1_solution.csv) and resolve any schema level and data level conflicts. \n",
    "\n",
    "<span style=\"color: red\"> You might have complex notebook structure in this section, please feel free to create your own notebook structure. </span>"
   ]
  },
  {
   "cell_type": "code",
   "execution_count": 2,
   "metadata": {
    "scrolled": false
   },
   "outputs": [
    {
     "data": {
      "text/plain": [
       "pandas.core.frame.DataFrame"
      ]
     },
     "execution_count": 2,
     "metadata": {},
     "output_type": "execute_result"
    }
   ],
   "source": [
    "# Code to audit data\n",
    "csvdf_1 = pd.read_table(\"dataset2.csv\", sep=\",\")\n",
    "type(csvdf_1)"
   ]
  },
  {
   "cell_type": "code",
   "execution_count": 3,
   "metadata": {},
   "outputs": [
    {
     "data": {
      "text/html": [
       "<div>\n",
       "<style scoped>\n",
       "    .dataframe tbody tr th:only-of-type {\n",
       "        vertical-align: middle;\n",
       "    }\n",
       "\n",
       "    .dataframe tbody tr th {\n",
       "        vertical-align: top;\n",
       "    }\n",
       "\n",
       "    .dataframe thead th {\n",
       "        text-align: right;\n",
       "    }\n",
       "</style>\n",
       "<table border=\"1\" class=\"dataframe\">\n",
       "  <thead>\n",
       "    <tr style=\"text-align: right;\">\n",
       "      <th></th>\n",
       "      <th>Opening</th>\n",
       "      <th>Closing</th>\n",
       "      <th>Job Title</th>\n",
       "      <th>Organisation</th>\n",
       "      <th>Location</th>\n",
       "      <th>Category</th>\n",
       "      <th>Salary per month</th>\n",
       "      <th>Fraction</th>\n",
       "      <th>Contract Type</th>\n",
       "    </tr>\n",
       "  </thead>\n",
       "  <tbody>\n",
       "    <tr>\n",
       "      <th>0</th>\n",
       "      <td>2013-10-06 00:00:00</td>\n",
       "      <td>2013-12-05 00:00:00</td>\n",
       "      <td>Aviation loans administration</td>\n",
       "      <td>cer Financial</td>\n",
       "      <td>London</td>\n",
       "      <td>Finance and Accounting</td>\n",
       "      <td>2800</td>\n",
       "      <td>NaN</td>\n",
       "      <td>Contract</td>\n",
       "    </tr>\n",
       "    <tr>\n",
       "      <th>1</th>\n",
       "      <td>2012-10-03 12:00:00</td>\n",
       "      <td>2012-11-02 12:00:00</td>\n",
       "      <td>Payroll Analyst  City upto **** , ****</td>\n",
       "      <td>LMA Recruitment Ltd</td>\n",
       "      <td>London</td>\n",
       "      <td>Finance and Accounting</td>\n",
       "      <td>2917</td>\n",
       "      <td>NaN</td>\n",
       "      <td>Permanent</td>\n",
       "    </tr>\n",
       "    <tr>\n",
       "      <th>2</th>\n",
       "      <td>2012-01-01 00:00:00</td>\n",
       "      <td>2012-01-31 00:00:00</td>\n",
       "      <td>Investment Team Assistant for leading Private ...</td>\n",
       "      <td>Austin Andrew Ltd</td>\n",
       "      <td>London</td>\n",
       "      <td>Finance and Accounting</td>\n",
       "      <td>3750</td>\n",
       "      <td>NaN</td>\n",
       "      <td>Permanent</td>\n",
       "    </tr>\n",
       "    <tr>\n",
       "      <th>3</th>\n",
       "      <td>2012-10-14 00:00:00</td>\n",
       "      <td>2012-11-13 00:00:00</td>\n",
       "      <td>SWAPS COLLATERAL CONTROL OFFICER</td>\n",
       "      <td>Brian Durham Recruitment Services Limited</td>\n",
       "      <td>City</td>\n",
       "      <td>Finance and Accounting</td>\n",
       "      <td>3333</td>\n",
       "      <td>NaN</td>\n",
       "      <td>Permanent</td>\n",
       "    </tr>\n",
       "    <tr>\n",
       "      <th>4</th>\n",
       "      <td>2012-11-17 12:00:00</td>\n",
       "      <td>2013-01-16 12:00:00</td>\n",
       "      <td>Loans Administration  Temp</td>\n",
       "      <td>cer Financial</td>\n",
       "      <td>London</td>\n",
       "      <td>Finance and Accounting</td>\n",
       "      <td>3280</td>\n",
       "      <td>NaN</td>\n",
       "      <td>Contract</td>\n",
       "    </tr>\n",
       "  </tbody>\n",
       "</table>\n",
       "</div>"
      ],
      "text/plain": [
       "               Opening              Closing  \\\n",
       "0  2013-10-06 00:00:00  2013-12-05 00:00:00   \n",
       "1  2012-10-03 12:00:00  2012-11-02 12:00:00   \n",
       "2  2012-01-01 00:00:00  2012-01-31 00:00:00   \n",
       "3  2012-10-14 00:00:00  2012-11-13 00:00:00   \n",
       "4  2012-11-17 12:00:00  2013-01-16 12:00:00   \n",
       "\n",
       "                                           Job Title  \\\n",
       "0                      Aviation loans administration   \n",
       "1             Payroll Analyst  City upto **** , ****   \n",
       "2  Investment Team Assistant for leading Private ...   \n",
       "3                   SWAPS COLLATERAL CONTROL OFFICER   \n",
       "4                         Loans Administration  Temp   \n",
       "\n",
       "                                Organisation Location                Category  \\\n",
       "0                              cer Financial   London  Finance and Accounting   \n",
       "1                        LMA Recruitment Ltd   London  Finance and Accounting   \n",
       "2                          Austin Andrew Ltd   London  Finance and Accounting   \n",
       "3  Brian Durham Recruitment Services Limited     City  Finance and Accounting   \n",
       "4                              cer Financial   London  Finance and Accounting   \n",
       "\n",
       "   Salary per month Fraction Contract Type  \n",
       "0              2800      NaN      Contract  \n",
       "1              2917      NaN     Permanent  \n",
       "2              3750      NaN     Permanent  \n",
       "3              3333      NaN     Permanent  \n",
       "4              3280      NaN      Contract  "
      ]
     },
     "execution_count": 3,
     "metadata": {},
     "output_type": "execute_result"
    }
   ],
   "source": [
    "jobs2 = csvdf_1\n",
    "jobs2.head(5)"
   ]
  },
  {
   "cell_type": "code",
   "execution_count": 4,
   "metadata": {},
   "outputs": [
    {
     "name": "stdout",
     "output_type": "stream",
     "text": [
      "<class 'pandas.core.frame.DataFrame'>\n",
      "RangeIndex: 334 entries, 0 to 333\n",
      "Data columns (total 9 columns):\n",
      " #   Column            Non-Null Count  Dtype \n",
      "---  ------            --------------  ----- \n",
      " 0   Opening           334 non-null    object\n",
      " 1   Closing           334 non-null    object\n",
      " 2   Job Title         334 non-null    object\n",
      " 3   Organisation      334 non-null    object\n",
      " 4   Location          334 non-null    object\n",
      " 5   Category          334 non-null    object\n",
      " 6   Salary per month  334 non-null    int64 \n",
      " 7   Fraction          3 non-null      object\n",
      " 8   Contract Type     327 non-null    object\n",
      "dtypes: int64(1), object(8)\n",
      "memory usage: 23.6+ KB\n"
     ]
    }
   ],
   "source": [
    "jobs2.info()"
   ]
  },
  {
   "cell_type": "code",
   "execution_count": 5,
   "metadata": {},
   "outputs": [],
   "source": [
    "ID = random.sample(range(72705245, 72705900), 334)\n",
    "#generate ID column with random values starting at maximum value from jobs df, imported below"
   ]
  },
  {
   "cell_type": "code",
   "execution_count": 6,
   "metadata": {},
   "outputs": [],
   "source": [
    "jobsID = pd.DataFrame(ID)\n",
    "jobs2 = pd.concat([jobsID, jobs2], axis = 1)"
   ]
  },
  {
   "cell_type": "code",
   "execution_count": 7,
   "metadata": {},
   "outputs": [
    {
     "data": {
      "text/html": [
       "<div>\n",
       "<style scoped>\n",
       "    .dataframe tbody tr th:only-of-type {\n",
       "        vertical-align: middle;\n",
       "    }\n",
       "\n",
       "    .dataframe tbody tr th {\n",
       "        vertical-align: top;\n",
       "    }\n",
       "\n",
       "    .dataframe thead th {\n",
       "        text-align: right;\n",
       "    }\n",
       "</style>\n",
       "<table border=\"1\" class=\"dataframe\">\n",
       "  <thead>\n",
       "    <tr style=\"text-align: right;\">\n",
       "      <th></th>\n",
       "      <th>Id</th>\n",
       "      <th>Opening</th>\n",
       "      <th>Closing</th>\n",
       "      <th>Job Title</th>\n",
       "      <th>Organisation</th>\n",
       "      <th>Location</th>\n",
       "      <th>Category</th>\n",
       "      <th>Salary per month</th>\n",
       "      <th>Fraction</th>\n",
       "      <th>Contract Type</th>\n",
       "    </tr>\n",
       "  </thead>\n",
       "  <tbody>\n",
       "    <tr>\n",
       "      <th>0</th>\n",
       "      <td>72705821</td>\n",
       "      <td>2013-10-06 00:00:00</td>\n",
       "      <td>2013-12-05 00:00:00</td>\n",
       "      <td>Aviation loans administration</td>\n",
       "      <td>cer Financial</td>\n",
       "      <td>London</td>\n",
       "      <td>Finance and Accounting</td>\n",
       "      <td>2800</td>\n",
       "      <td>NaN</td>\n",
       "      <td>Contract</td>\n",
       "    </tr>\n",
       "    <tr>\n",
       "      <th>1</th>\n",
       "      <td>72705610</td>\n",
       "      <td>2012-10-03 12:00:00</td>\n",
       "      <td>2012-11-02 12:00:00</td>\n",
       "      <td>Payroll Analyst  City upto **** , ****</td>\n",
       "      <td>LMA Recruitment Ltd</td>\n",
       "      <td>London</td>\n",
       "      <td>Finance and Accounting</td>\n",
       "      <td>2917</td>\n",
       "      <td>NaN</td>\n",
       "      <td>Permanent</td>\n",
       "    </tr>\n",
       "    <tr>\n",
       "      <th>2</th>\n",
       "      <td>72705845</td>\n",
       "      <td>2012-01-01 00:00:00</td>\n",
       "      <td>2012-01-31 00:00:00</td>\n",
       "      <td>Investment Team Assistant for leading Private ...</td>\n",
       "      <td>Austin Andrew Ltd</td>\n",
       "      <td>London</td>\n",
       "      <td>Finance and Accounting</td>\n",
       "      <td>3750</td>\n",
       "      <td>NaN</td>\n",
       "      <td>Permanent</td>\n",
       "    </tr>\n",
       "    <tr>\n",
       "      <th>3</th>\n",
       "      <td>72705835</td>\n",
       "      <td>2012-10-14 00:00:00</td>\n",
       "      <td>2012-11-13 00:00:00</td>\n",
       "      <td>SWAPS COLLATERAL CONTROL OFFICER</td>\n",
       "      <td>Brian Durham Recruitment Services Limited</td>\n",
       "      <td>City</td>\n",
       "      <td>Finance and Accounting</td>\n",
       "      <td>3333</td>\n",
       "      <td>NaN</td>\n",
       "      <td>Permanent</td>\n",
       "    </tr>\n",
       "    <tr>\n",
       "      <th>4</th>\n",
       "      <td>72705535</td>\n",
       "      <td>2012-11-17 12:00:00</td>\n",
       "      <td>2013-01-16 12:00:00</td>\n",
       "      <td>Loans Administration  Temp</td>\n",
       "      <td>cer Financial</td>\n",
       "      <td>London</td>\n",
       "      <td>Finance and Accounting</td>\n",
       "      <td>3280</td>\n",
       "      <td>NaN</td>\n",
       "      <td>Contract</td>\n",
       "    </tr>\n",
       "  </tbody>\n",
       "</table>\n",
       "</div>"
      ],
      "text/plain": [
       "         Id              Opening              Closing  \\\n",
       "0  72705821  2013-10-06 00:00:00  2013-12-05 00:00:00   \n",
       "1  72705610  2012-10-03 12:00:00  2012-11-02 12:00:00   \n",
       "2  72705845  2012-01-01 00:00:00  2012-01-31 00:00:00   \n",
       "3  72705835  2012-10-14 00:00:00  2012-11-13 00:00:00   \n",
       "4  72705535  2012-11-17 12:00:00  2013-01-16 12:00:00   \n",
       "\n",
       "                                           Job Title  \\\n",
       "0                      Aviation loans administration   \n",
       "1             Payroll Analyst  City upto **** , ****   \n",
       "2  Investment Team Assistant for leading Private ...   \n",
       "3                   SWAPS COLLATERAL CONTROL OFFICER   \n",
       "4                         Loans Administration  Temp   \n",
       "\n",
       "                                Organisation Location                Category  \\\n",
       "0                              cer Financial   London  Finance and Accounting   \n",
       "1                        LMA Recruitment Ltd   London  Finance and Accounting   \n",
       "2                          Austin Andrew Ltd   London  Finance and Accounting   \n",
       "3  Brian Durham Recruitment Services Limited     City  Finance and Accounting   \n",
       "4                              cer Financial   London  Finance and Accounting   \n",
       "\n",
       "   Salary per month Fraction Contract Type  \n",
       "0              2800      NaN      Contract  \n",
       "1              2917      NaN     Permanent  \n",
       "2              3750      NaN     Permanent  \n",
       "3              3333      NaN     Permanent  \n",
       "4              3280      NaN      Contract  "
      ]
     },
     "execution_count": 7,
     "metadata": {},
     "output_type": "execute_result"
    }
   ],
   "source": [
    "jobs2.rename(columns = {0:'Id'}, inplace = True)\n",
    "jobs2.head(5)\n",
    "#rename ID column to match jobs df"
   ]
  },
  {
   "cell_type": "code",
   "execution_count": 8,
   "metadata": {},
   "outputs": [],
   "source": [
    "jobs2[\"Source\"] = np.nan\n",
    "#source column added to match jobs df"
   ]
  },
  {
   "cell_type": "code",
   "execution_count": 9,
   "metadata": {},
   "outputs": [
    {
     "data": {
      "text/html": [
       "<div>\n",
       "<style scoped>\n",
       "    .dataframe tbody tr th:only-of-type {\n",
       "        vertical-align: middle;\n",
       "    }\n",
       "\n",
       "    .dataframe tbody tr th {\n",
       "        vertical-align: top;\n",
       "    }\n",
       "\n",
       "    .dataframe thead th {\n",
       "        text-align: right;\n",
       "    }\n",
       "</style>\n",
       "<table border=\"1\" class=\"dataframe\">\n",
       "  <thead>\n",
       "    <tr style=\"text-align: right;\">\n",
       "      <th></th>\n",
       "      <th>Id</th>\n",
       "      <th>Job Title</th>\n",
       "      <th>Location</th>\n",
       "      <th>Organisation</th>\n",
       "      <th>Fraction</th>\n",
       "      <th>Contract Type</th>\n",
       "      <th>Category</th>\n",
       "      <th>Salary per month</th>\n",
       "      <th>Opening</th>\n",
       "      <th>Closing</th>\n",
       "      <th>Source</th>\n",
       "    </tr>\n",
       "  </thead>\n",
       "  <tbody>\n",
       "    <tr>\n",
       "      <th>0</th>\n",
       "      <td>72705821</td>\n",
       "      <td>Aviation loans administration</td>\n",
       "      <td>London</td>\n",
       "      <td>cer Financial</td>\n",
       "      <td>NaN</td>\n",
       "      <td>Contract</td>\n",
       "      <td>Finance and Accounting</td>\n",
       "      <td>2800</td>\n",
       "      <td>2013-10-06 00:00:00</td>\n",
       "      <td>2013-12-05 00:00:00</td>\n",
       "      <td>NaN</td>\n",
       "    </tr>\n",
       "    <tr>\n",
       "      <th>1</th>\n",
       "      <td>72705610</td>\n",
       "      <td>Payroll Analyst  City upto **** , ****</td>\n",
       "      <td>London</td>\n",
       "      <td>LMA Recruitment Ltd</td>\n",
       "      <td>NaN</td>\n",
       "      <td>Permanent</td>\n",
       "      <td>Finance and Accounting</td>\n",
       "      <td>2917</td>\n",
       "      <td>2012-10-03 12:00:00</td>\n",
       "      <td>2012-11-02 12:00:00</td>\n",
       "      <td>NaN</td>\n",
       "    </tr>\n",
       "    <tr>\n",
       "      <th>2</th>\n",
       "      <td>72705845</td>\n",
       "      <td>Investment Team Assistant for leading Private ...</td>\n",
       "      <td>London</td>\n",
       "      <td>Austin Andrew Ltd</td>\n",
       "      <td>NaN</td>\n",
       "      <td>Permanent</td>\n",
       "      <td>Finance and Accounting</td>\n",
       "      <td>3750</td>\n",
       "      <td>2012-01-01 00:00:00</td>\n",
       "      <td>2012-01-31 00:00:00</td>\n",
       "      <td>NaN</td>\n",
       "    </tr>\n",
       "    <tr>\n",
       "      <th>3</th>\n",
       "      <td>72705835</td>\n",
       "      <td>SWAPS COLLATERAL CONTROL OFFICER</td>\n",
       "      <td>City</td>\n",
       "      <td>Brian Durham Recruitment Services Limited</td>\n",
       "      <td>NaN</td>\n",
       "      <td>Permanent</td>\n",
       "      <td>Finance and Accounting</td>\n",
       "      <td>3333</td>\n",
       "      <td>2012-10-14 00:00:00</td>\n",
       "      <td>2012-11-13 00:00:00</td>\n",
       "      <td>NaN</td>\n",
       "    </tr>\n",
       "    <tr>\n",
       "      <th>4</th>\n",
       "      <td>72705535</td>\n",
       "      <td>Loans Administration  Temp</td>\n",
       "      <td>London</td>\n",
       "      <td>cer Financial</td>\n",
       "      <td>NaN</td>\n",
       "      <td>Contract</td>\n",
       "      <td>Finance and Accounting</td>\n",
       "      <td>3280</td>\n",
       "      <td>2012-11-17 12:00:00</td>\n",
       "      <td>2013-01-16 12:00:00</td>\n",
       "      <td>NaN</td>\n",
       "    </tr>\n",
       "  </tbody>\n",
       "</table>\n",
       "</div>"
      ],
      "text/plain": [
       "         Id                                          Job Title Location  \\\n",
       "0  72705821                      Aviation loans administration   London   \n",
       "1  72705610             Payroll Analyst  City upto **** , ****   London   \n",
       "2  72705845  Investment Team Assistant for leading Private ...   London   \n",
       "3  72705835                   SWAPS COLLATERAL CONTROL OFFICER     City   \n",
       "4  72705535                         Loans Administration  Temp   London   \n",
       "\n",
       "                                Organisation Fraction Contract Type  \\\n",
       "0                              cer Financial      NaN      Contract   \n",
       "1                        LMA Recruitment Ltd      NaN     Permanent   \n",
       "2                          Austin Andrew Ltd      NaN     Permanent   \n",
       "3  Brian Durham Recruitment Services Limited      NaN     Permanent   \n",
       "4                              cer Financial      NaN      Contract   \n",
       "\n",
       "                 Category  Salary per month              Opening  \\\n",
       "0  Finance and Accounting              2800  2013-10-06 00:00:00   \n",
       "1  Finance and Accounting              2917  2012-10-03 12:00:00   \n",
       "2  Finance and Accounting              3750  2012-01-01 00:00:00   \n",
       "3  Finance and Accounting              3333  2012-10-14 00:00:00   \n",
       "4  Finance and Accounting              3280  2012-11-17 12:00:00   \n",
       "\n",
       "               Closing  Source  \n",
       "0  2013-12-05 00:00:00     NaN  \n",
       "1  2012-11-02 12:00:00     NaN  \n",
       "2  2012-01-31 00:00:00     NaN  \n",
       "3  2012-11-13 00:00:00     NaN  \n",
       "4  2013-01-16 12:00:00     NaN  "
      ]
     },
     "execution_count": 9,
     "metadata": {},
     "output_type": "execute_result"
    }
   ],
   "source": [
    "jobs2 = jobs2[['Id','Job Title', 'Location', 'Organisation', 'Fraction', 'Contract Type', 'Category', 'Salary per month', 'Opening', 'Closing', 'Source']]\n",
    "jobs2.head(5)\n",
    "#jobs2 df columns ordered to match jobs df"
   ]
  },
  {
   "cell_type": "code",
   "execution_count": 10,
   "metadata": {},
   "outputs": [],
   "source": [
    "jobs2['Salary per month'] = jobs2['Salary per month'] * 12\n",
    "#recalculate monthly salary to match yearly salary in jobs df"
   ]
  },
  {
   "cell_type": "code",
   "execution_count": 11,
   "metadata": {},
   "outputs": [],
   "source": [
    "jobs2['Fraction'].fillna('full_time', inplace=True)\n",
    "#NaN values to be filled as full_time to match jobs df"
   ]
  },
  {
   "cell_type": "code",
   "execution_count": 12,
   "metadata": {},
   "outputs": [],
   "source": [
    "#column names changed to match jobs df\n",
    "jobs2.rename(columns={\"Job Title\": \"Title\", \"Organisation\": \"Company\", 'Fraction':'ContractType', 'Contract Type':'ContractTime', 'Salary per month':'Salary', 'Opening':'OpenDate', 'Closing':'CloseDate'}, inplace = True)"
   ]
  },
  {
   "cell_type": "code",
   "execution_count": 13,
   "metadata": {},
   "outputs": [
    {
     "data": {
      "text/html": [
       "<div>\n",
       "<style scoped>\n",
       "    .dataframe tbody tr th:only-of-type {\n",
       "        vertical-align: middle;\n",
       "    }\n",
       "\n",
       "    .dataframe tbody tr th {\n",
       "        vertical-align: top;\n",
       "    }\n",
       "\n",
       "    .dataframe thead th {\n",
       "        text-align: right;\n",
       "    }\n",
       "</style>\n",
       "<table border=\"1\" class=\"dataframe\">\n",
       "  <thead>\n",
       "    <tr style=\"text-align: right;\">\n",
       "      <th></th>\n",
       "      <th>Id</th>\n",
       "      <th>Title</th>\n",
       "      <th>Location</th>\n",
       "      <th>Company</th>\n",
       "      <th>ContractType</th>\n",
       "      <th>ContractTime</th>\n",
       "      <th>Category</th>\n",
       "      <th>Salary</th>\n",
       "      <th>OpenDate</th>\n",
       "      <th>CloseDate</th>\n",
       "      <th>Source</th>\n",
       "    </tr>\n",
       "  </thead>\n",
       "  <tbody>\n",
       "    <tr>\n",
       "      <th>0</th>\n",
       "      <td>12612628</td>\n",
       "      <td>Engineering Systems Analyst</td>\n",
       "      <td>Dorking</td>\n",
       "      <td>Gregory Martin International</td>\n",
       "      <td>full_time</td>\n",
       "      <td>permanent</td>\n",
       "      <td>Engineering Jobs</td>\n",
       "      <td>25000.0</td>\n",
       "      <td>20130708T120000</td>\n",
       "      <td>20130906T120000</td>\n",
       "      <td>cv-library.co.uk</td>\n",
       "    </tr>\n",
       "    <tr>\n",
       "      <th>1</th>\n",
       "      <td>12612830</td>\n",
       "      <td>Stress Engineer Glasgow</td>\n",
       "      <td>Glasgow</td>\n",
       "      <td>Gregory Martin International</td>\n",
       "      <td>full_time</td>\n",
       "      <td>permanent</td>\n",
       "      <td>Engineering Jobs</td>\n",
       "      <td>30000.0</td>\n",
       "      <td>20120130T000000</td>\n",
       "      <td>20120330T000000</td>\n",
       "      <td>cv-library.co.uk</td>\n",
       "    </tr>\n",
       "    <tr>\n",
       "      <th>2</th>\n",
       "      <td>12612844</td>\n",
       "      <td>Modelling and simulation analyst</td>\n",
       "      <td>Hampshire</td>\n",
       "      <td>Gregory Martin International</td>\n",
       "      <td>full_time</td>\n",
       "      <td>permanent</td>\n",
       "      <td>Engineering Jobs</td>\n",
       "      <td>30000.0</td>\n",
       "      <td>20121221T150000</td>\n",
       "      <td>20130120T150000</td>\n",
       "      <td>cv-library.co.uk</td>\n",
       "    </tr>\n",
       "    <tr>\n",
       "      <th>3</th>\n",
       "      <td>12613049</td>\n",
       "      <td>Engineering Systems Analyst / Mathematical Mod...</td>\n",
       "      <td>Surrey</td>\n",
       "      <td>Gregory Martin International</td>\n",
       "      <td>full_time</td>\n",
       "      <td>permanent</td>\n",
       "      <td>Engineering Jobs</td>\n",
       "      <td>27500.0</td>\n",
       "      <td>20131208T150000</td>\n",
       "      <td>20140206T150000</td>\n",
       "      <td>cv-library.co.uk</td>\n",
       "    </tr>\n",
       "  </tbody>\n",
       "</table>\n",
       "</div>"
      ],
      "text/plain": [
       "         Id                                              Title   Location  \\\n",
       "0  12612628                        Engineering Systems Analyst    Dorking   \n",
       "1  12612830                            Stress Engineer Glasgow    Glasgow   \n",
       "2  12612844                   Modelling and simulation analyst  Hampshire   \n",
       "3  12613049  Engineering Systems Analyst / Mathematical Mod...     Surrey   \n",
       "\n",
       "                        Company ContractType ContractTime          Category  \\\n",
       "0  Gregory Martin International    full_time    permanent  Engineering Jobs   \n",
       "1  Gregory Martin International    full_time    permanent  Engineering Jobs   \n",
       "2  Gregory Martin International    full_time    permanent  Engineering Jobs   \n",
       "3  Gregory Martin International    full_time    permanent  Engineering Jobs   \n",
       "\n",
       "    Salary         OpenDate        CloseDate            Source  \n",
       "0  25000.0  20130708T120000  20130906T120000  cv-library.co.uk  \n",
       "1  30000.0  20120130T000000  20120330T000000  cv-library.co.uk  \n",
       "2  30000.0  20121221T150000  20130120T150000  cv-library.co.uk  \n",
       "3  27500.0  20131208T150000  20140206T150000  cv-library.co.uk  "
      ]
     },
     "execution_count": 13,
     "metadata": {},
     "output_type": "execute_result"
    }
   ],
   "source": [
    "jobs = pd.read_table(\"dataset1_solution.csv\", sep=\",\")\n",
    "jobs.head(4)\n",
    "#introduce jobs df"
   ]
  },
  {
   "cell_type": "code",
   "execution_count": 14,
   "metadata": {},
   "outputs": [
    {
     "name": "stdout",
     "output_type": "stream",
     "text": [
      "<class 'pandas.core.frame.DataFrame'>\n",
      "RangeIndex: 55169 entries, 0 to 55168\n",
      "Data columns (total 11 columns):\n",
      " #   Column        Non-Null Count  Dtype  \n",
      "---  ------        --------------  -----  \n",
      " 0   Id            55169 non-null  int64  \n",
      " 1   Title         55168 non-null  object \n",
      " 2   Location      55169 non-null  object \n",
      " 3   Company       55169 non-null  object \n",
      " 4   ContractType  55169 non-null  object \n",
      " 5   ContractTime  55169 non-null  object \n",
      " 6   Category      55169 non-null  object \n",
      " 7   Salary        55169 non-null  float64\n",
      " 8   OpenDate      55169 non-null  object \n",
      " 9   CloseDate     55169 non-null  object \n",
      " 10  Source        55169 non-null  object \n",
      "dtypes: float64(1), int64(1), object(9)\n",
      "memory usage: 4.6+ MB\n"
     ]
    }
   ],
   "source": [
    "jobs.info()"
   ]
  },
  {
   "cell_type": "code",
   "execution_count": 15,
   "metadata": {},
   "outputs": [],
   "source": [
    "#we need to make category values in jobs df match jobs2 df\n",
    "jobs['Category'] = jobs['Category'].replace({'\\sJobs':'', 'Accounting & Finance':'Finance and Accounting', 'IT':'Information Technology'}, regex=True)"
   ]
  },
  {
   "cell_type": "code",
   "execution_count": 16,
   "metadata": {},
   "outputs": [
    {
     "data": {
      "text/plain": [
       "Information Technology         14344\n",
       "Healthcare & Nursing            8809\n",
       "Engineering                     8210\n",
       "Finance and Accounting          7138\n",
       "Sales                           5349\n",
       "Hospitality & Catering          4788\n",
       "Teaching                        3779\n",
       "PR, Advertising & Marketing     2752\n",
       "Name: Category, dtype: int64"
      ]
     },
     "execution_count": 16,
     "metadata": {},
     "output_type": "execute_result"
    }
   ],
   "source": [
    "jobs['Category'].value_counts()"
   ]
  },
  {
   "cell_type": "code",
   "execution_count": 17,
   "metadata": {},
   "outputs": [
    {
     "data": {
      "text/plain": [
       "Finance and Accounting           319\n",
       "Information Technology            12\n",
       "PR, Advertising and Marketing      3\n",
       "Name: Category, dtype: int64"
      ]
     },
     "execution_count": 17,
     "metadata": {},
     "output_type": "execute_result"
    }
   ],
   "source": [
    "jobs2['Category'].value_counts()\n",
    "#check category values in jobs2 to see if they now match jobs df"
   ]
  },
  {
   "cell_type": "code",
   "execution_count": 18,
   "metadata": {},
   "outputs": [],
   "source": [
    "jobs2['Salary'] = jobs2['Salary'].astype(np.float)\n",
    "jobs2['OpenDate'] = pd.to_datetime(jobs2['OpenDate'])\n",
    "jobs2['CloseDate'] = pd.to_datetime(jobs2['CloseDate'])\n",
    "jobs2['OpenDate'] = jobs2['OpenDate'].dt.strftime(\"%Y%m%dT%H%M%S\")\n",
    "jobs2['CloseDate'] = jobs2['CloseDate'].dt.strftime(\"%Y%m%dT%H%M%S\")\n",
    "#convert jobs2 strings to datetime, and then reformat into correct YYYYMMDDTHHMMSS string format"
   ]
  },
  {
   "cell_type": "code",
   "execution_count": 19,
   "metadata": {},
   "outputs": [
    {
     "data": {
      "text/html": [
       "<div>\n",
       "<style scoped>\n",
       "    .dataframe tbody tr th:only-of-type {\n",
       "        vertical-align: middle;\n",
       "    }\n",
       "\n",
       "    .dataframe tbody tr th {\n",
       "        vertical-align: top;\n",
       "    }\n",
       "\n",
       "    .dataframe thead th {\n",
       "        text-align: right;\n",
       "    }\n",
       "</style>\n",
       "<table border=\"1\" class=\"dataframe\">\n",
       "  <thead>\n",
       "    <tr style=\"text-align: right;\">\n",
       "      <th></th>\n",
       "      <th>Id</th>\n",
       "      <th>Title</th>\n",
       "      <th>Location</th>\n",
       "      <th>Company</th>\n",
       "      <th>ContractType</th>\n",
       "      <th>ContractTime</th>\n",
       "      <th>Category</th>\n",
       "      <th>Salary</th>\n",
       "      <th>OpenDate</th>\n",
       "      <th>CloseDate</th>\n",
       "      <th>Source</th>\n",
       "    </tr>\n",
       "  </thead>\n",
       "  <tbody>\n",
       "    <tr>\n",
       "      <th>55158</th>\n",
       "      <td>72705244</td>\n",
       "      <td>Quality Assurance Environmental Manager Nottin...</td>\n",
       "      <td>Nottingham</td>\n",
       "      <td>Stephen James Consulting</td>\n",
       "      <td>full_time</td>\n",
       "      <td>permanent</td>\n",
       "      <td>Healthcare &amp; Nursing</td>\n",
       "      <td>35000.0</td>\n",
       "      <td>20120110T150000</td>\n",
       "      <td>20120409T150000</td>\n",
       "      <td>tntjobs.co.uk</td>\n",
       "    </tr>\n",
       "    <tr>\n",
       "      <th>55157</th>\n",
       "      <td>72705240</td>\n",
       "      <td>Barclays Future Leaders Development Programmes</td>\n",
       "      <td>Hackney</td>\n",
       "      <td>Barclays</td>\n",
       "      <td>full_time</td>\n",
       "      <td>permanent</td>\n",
       "      <td>Information Technology</td>\n",
       "      <td>36000.0</td>\n",
       "      <td>20121223T150000</td>\n",
       "      <td>20130221T150000</td>\n",
       "      <td>grb.uk.com</td>\n",
       "    </tr>\n",
       "    <tr>\n",
       "      <th>55156</th>\n",
       "      <td>72705221</td>\n",
       "      <td>Senior Financial Advisor</td>\n",
       "      <td>London</td>\n",
       "      <td>Fram Executive Search.</td>\n",
       "      <td>full_time</td>\n",
       "      <td>permanent</td>\n",
       "      <td>Finance and Accounting</td>\n",
       "      <td>40000.0</td>\n",
       "      <td>20130126T000000</td>\n",
       "      <td>20130225T000000</td>\n",
       "      <td>ifaonlinejobs.co.uk</td>\n",
       "    </tr>\n",
       "    <tr>\n",
       "      <th>55155</th>\n",
       "      <td>72705205</td>\n",
       "      <td>Pensions Administrators (Temporary/Contract)</td>\n",
       "      <td>UK</td>\n",
       "      <td>Abenefit2u</td>\n",
       "      <td>full_time</td>\n",
       "      <td>contract</td>\n",
       "      <td>Finance and Accounting</td>\n",
       "      <td>24000.0</td>\n",
       "      <td>20130801T150000</td>\n",
       "      <td>20130831T150000</td>\n",
       "      <td>cv-library.co.uk</td>\n",
       "    </tr>\n",
       "    <tr>\n",
       "      <th>55154</th>\n",
       "      <td>72705203</td>\n",
       "      <td>TEACHER OF BUSINESS STUDIES AND LAW</td>\n",
       "      <td>Salisbury</td>\n",
       "      <td></td>\n",
       "      <td>full_time</td>\n",
       "      <td>contract</td>\n",
       "      <td>Teaching</td>\n",
       "      <td>22800.0</td>\n",
       "      <td>20120123T120000</td>\n",
       "      <td>20120206T120000</td>\n",
       "      <td>hays.co.uk</td>\n",
       "    </tr>\n",
       "  </tbody>\n",
       "</table>\n",
       "</div>"
      ],
      "text/plain": [
       "             Id                                              Title  \\\n",
       "55158  72705244  Quality Assurance Environmental Manager Nottin...   \n",
       "55157  72705240    Barclays Future Leaders Development Programmes    \n",
       "55156  72705221                           Senior Financial Advisor   \n",
       "55155  72705205       Pensions Administrators (Temporary/Contract)   \n",
       "55154  72705203                TEACHER OF BUSINESS STUDIES AND LAW   \n",
       "\n",
       "         Location                   Company ContractType ContractTime  \\\n",
       "55158  Nottingham  Stephen James Consulting    full_time    permanent   \n",
       "55157     Hackney                  Barclays    full_time    permanent   \n",
       "55156      London    Fram Executive Search.    full_time    permanent   \n",
       "55155          UK                Abenefit2u    full_time     contract   \n",
       "55154   Salisbury                              full_time     contract   \n",
       "\n",
       "                     Category   Salary         OpenDate        CloseDate  \\\n",
       "55158    Healthcare & Nursing  35000.0  20120110T150000  20120409T150000   \n",
       "55157  Information Technology  36000.0  20121223T150000  20130221T150000   \n",
       "55156  Finance and Accounting  40000.0  20130126T000000  20130225T000000   \n",
       "55155  Finance and Accounting  24000.0  20130801T150000  20130831T150000   \n",
       "55154                Teaching  22800.0  20120123T120000  20120206T120000   \n",
       "\n",
       "                    Source  \n",
       "55158        tntjobs.co.uk  \n",
       "55157           grb.uk.com  \n",
       "55156  ifaonlinejobs.co.uk  \n",
       "55155     cv-library.co.uk  \n",
       "55154           hays.co.uk  "
      ]
     },
     "execution_count": 19,
     "metadata": {},
     "output_type": "execute_result"
    }
   ],
   "source": [
    "jobs.sort_values(by=['Id'], inplace = True, ascending = False)\n",
    "jobs.head(5)\n",
    "#this helped inform what value range the randomly generated 'ID' value for jobs2 would be"
   ]
  },
  {
   "cell_type": "code",
   "execution_count": 21,
   "metadata": {},
   "outputs": [],
   "source": [
    "jobs = pd.concat([jobs, jobs2])\n",
    "#bring two formatted tables together"
   ]
  },
  {
   "cell_type": "code",
   "execution_count": 22,
   "metadata": {},
   "outputs": [],
   "source": [
    "jobs['Title'] = jobs['Title'].astype(str)\n",
    "jobs['Location'] = jobs['Location'].astype(str)\n",
    "jobs['Company'] = jobs['Company'].astype(str)\n",
    "jobs['ContractType'] = jobs['ContractType'].astype(str)\n",
    "jobs['ContractTime'] = jobs['ContractTime'].astype(str)\n",
    "jobs['Category'] = jobs['Category'].astype(str)\n",
    "jobs['Source'] = jobs['Source'].astype(str)\n",
    "\n",
    "#double check all necessary attributes are string"
   ]
  },
  {
   "cell_type": "code",
   "execution_count": 23,
   "metadata": {},
   "outputs": [
    {
     "name": "stdout",
     "output_type": "stream",
     "text": [
      "<class 'pandas.core.frame.DataFrame'>\n",
      "Int64Index: 55503 entries, 55158 to 333\n",
      "Data columns (total 11 columns):\n",
      " #   Column        Non-Null Count  Dtype  \n",
      "---  ------        --------------  -----  \n",
      " 0   Id            55503 non-null  int64  \n",
      " 1   Title         55503 non-null  object \n",
      " 2   Location      55503 non-null  object \n",
      " 3   Company       55503 non-null  object \n",
      " 4   ContractType  55503 non-null  object \n",
      " 5   ContractTime  55503 non-null  object \n",
      " 6   Category      55503 non-null  object \n",
      " 7   Salary        55503 non-null  float64\n",
      " 8   OpenDate      55503 non-null  object \n",
      " 9   CloseDate     55503 non-null  object \n",
      " 10  Source        55503 non-null  object \n",
      "dtypes: float64(1), int64(1), object(9)\n",
      "memory usage: 5.1+ MB\n"
     ]
    }
   ],
   "source": [
    "jobs.info()\n",
    "#A final check to make sure data is in correct format"
   ]
  },
  {
   "cell_type": "markdown",
   "metadata": {},
   "source": [
    "......"
   ]
  },
  {
   "cell_type": "markdown",
   "metadata": {},
   "source": [
    "## The Global Key\n",
    "Write down the identified global key:\n",
    "\n",
    "**| Title  | Company  | Location  | Category  |**"
   ]
  },
  {
   "cell_type": "code",
   "execution_count": 25,
   "metadata": {},
   "outputs": [
    {
     "name": "stdout",
     "output_type": "stream",
     "text": [
      "<class 'pandas.core.frame.DataFrame'>\n",
      "Int64Index: 55503 entries, 55158 to 333\n",
      "Data columns (total 11 columns):\n",
      " #   Column        Non-Null Count  Dtype  \n",
      "---  ------        --------------  -----  \n",
      " 0   Id            55503 non-null  int64  \n",
      " 1   Title         55503 non-null  object \n",
      " 2   Location      55503 non-null  object \n",
      " 3   Company       55503 non-null  object \n",
      " 4   ContractType  55503 non-null  object \n",
      " 5   ContractTime  55503 non-null  object \n",
      " 6   Category      55503 non-null  object \n",
      " 7   Salary        55503 non-null  float64\n",
      " 8   OpenDate      55503 non-null  object \n",
      " 9   CloseDate     55503 non-null  object \n",
      " 10  Source        55503 non-null  object \n",
      "dtypes: float64(1), int64(1), object(9)\n",
      "memory usage: 5.1+ MB\n"
     ]
    }
   ],
   "source": [
    "#finally remove duplicates based on the global key\n",
    "jobs.drop_duplicates(subset=['Title', 'Company', 'Location', 'Category'], keep=False)\n",
    "jobs.info()"
   ]
  },
  {
   "cell_type": "markdown",
   "metadata": {},
   "source": [
    "## Saving data\n",
    "Save the integrated data"
   ]
  },
  {
   "cell_type": "code",
   "execution_count": 24,
   "metadata": {},
   "outputs": [],
   "source": [
    "# code to save output data\n",
    "jobs.to_csv('dataset_integrated.csv',index=False)"
   ]
  },
  {
   "cell_type": "markdown",
   "metadata": {},
   "source": [
    "## Summary\n",
    "Give a short summary and anything you would like to talk about assessment 2 part 2 here."
   ]
  },
  {
   "cell_type": "code",
   "execution_count": null,
   "metadata": {},
   "outputs": [],
   "source": [
    "#Report to follow"
   ]
  }
 ],
 "metadata": {
  "kernelspec": {
   "display_name": "Python 3",
   "language": "python",
   "name": "python3"
  },
  "language_info": {
   "codemirror_mode": {
    "name": "ipython",
    "version": 3
   },
   "file_extension": ".py",
   "mimetype": "text/x-python",
   "name": "python",
   "nbconvert_exporter": "python",
   "pygments_lexer": "ipython3",
   "version": "3.8.3"
  }
 },
 "nbformat": 4,
 "nbformat_minor": 1
}
